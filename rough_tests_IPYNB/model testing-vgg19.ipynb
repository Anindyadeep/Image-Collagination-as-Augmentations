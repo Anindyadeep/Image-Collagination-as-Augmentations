{
 "cells": [
  {
   "cell_type": "code",
   "execution_count": 1,
   "metadata": {},
   "outputs": [],
   "source": [
    "import os\n",
    "import torch\n",
    "from PIL import Image\n",
    "import pandas as pd\n",
    "\n",
    "device = 'cuda' if torch.cuda.is_available() else 'cpu'"
   ]
  },
  {
   "cell_type": "code",
   "execution_count": 2,
   "metadata": {},
   "outputs": [],
   "source": [
    "def test_eval(model, test_path, test_class, transform):\n",
    "  ans = []\n",
    "  files = test_class.keys()\n",
    "  labels = test_class.values()\n",
    "  num_correct = 0\n",
    "  for file , idx in zip(files, labels):\n",
    "      path = os.path.join(test_path, file)\n",
    "      try:\n",
    "          img = Image.open(path)\n",
    "          tensor = transform(img)\n",
    "          temp_new_path = file.split('.')[0] + '.png'\n",
    "          new_path = os.path.join(test_path, temp_new_path)\n",
    "          img.save(new_path)\n",
    "          img_file = Image.open(new_path).convert('RGB')\n",
    "          tensor_img = transform(img_file)\n",
    "          tensor = tensor.unsqueeze(0).to(device)\n",
    "          output = model(tensor)\n",
    "          confidence, prediction = torch.max(output, 1)\n",
    "          ans.append(prediction.tolist()[0])\n",
    "          if prediction == idx:\n",
    "            num_correct += 1\n",
    "      except RuntimeError as e:\n",
    "          print('could not infer dtype of JPEG')\n",
    "  return ans, (num_correct/len(test_class))"
   ]
  },
  {
   "cell_type": "code",
   "execution_count": 3,
   "metadata": {},
   "outputs": [],
   "source": [
    "def get_test_reults(model, transform, test_path, save_as):\n",
    "    preds = []\n",
    "    files = os.listdir(test_path)\n",
    "    for file in files:\n",
    "        path = os.path.join(test_path, file)\n",
    "        try:\n",
    "            img = Image.open(path)\n",
    "            temp_new_path = file.split('.')[0] + '.png'\n",
    "            new_path = os.path.join(test_path, temp_new_path)\n",
    "            img.save(new_path)\n",
    "            img_file = Image.open(new_path).convert('RGB')\n",
    "            tensor_image = transform(img_file)\n",
    "            tensor = tensor_image.unsqueeze(0).to(device)\n",
    "            output = model(tensor)\n",
    "            _, prediction = torch.max(output, 1)\n",
    "            preds.append(prediction.tolist()[0])\n",
    "        except RuntimeError as e:\n",
    "            print('could not infer dtype of JPEG, skipping ...')\n",
    "    \n",
    "    if save_as:\n",
    "        save_dict = {\n",
    "            'image_name: ': files,\n",
    "            'predicted_class': preds}\n",
    "        df = pd.DataFrame(save_dict)\n",
    "        df.to_csv(save_as)\n",
    "    return preds"
   ]
  },
  {
   "cell_type": "code",
   "execution_count": 4,
   "metadata": {},
   "outputs": [],
   "source": [
    "vgg19_path = '/home/anindya/Documents/kaggle/SAII/LAST TRIAL/models/VGG19.pth'\n",
    "vgg19_bn_path = '/home/anindya/Documents/kaggle/SAII/LAST TRIAL/models/VGG19_bn.pth'\n",
    "resnet_path = '/home/anindya/Documents/kaggle/SAII/LAST TRIAL/models/RESNET152.pth'"
   ]
  },
  {
   "cell_type": "code",
   "execution_count": 5,
   "metadata": {},
   "outputs": [],
   "source": [
    "import torch.nn as nn\n",
    "from torchvision.models import vgg19_bn, vgg19, resnet152"
   ]
  },
  {
   "cell_type": "markdown",
   "metadata": {},
   "source": [
    "### VGG19"
   ]
  },
  {
   "cell_type": "code",
   "execution_count": 6,
   "metadata": {},
   "outputs": [],
   "source": [
    "device = 'cuda' if torch.cuda.is_available() else 'cpu'\n",
    "num_classes = 6\n",
    "model = vgg19(pretrained=False)\n",
    "for param in model.parameters():\n",
    "    param.requires_grad = False\n",
    "\n",
    "model.classifier[6] = nn.Linear(model.classifier[6].in_features, num_classes)\n",
    "model = model.to(device)"
   ]
  },
  {
   "cell_type": "code",
   "execution_count": 7,
   "metadata": {},
   "outputs": [],
   "source": [
    "# loading the model\n",
    "\n",
    "pp = model.load_state_dict(torch.load(vgg19_path, map_location=torch.device(device)))"
   ]
  },
  {
   "cell_type": "code",
   "execution_count": 8,
   "metadata": {},
   "outputs": [],
   "source": [
    "import torchvision.transforms as transforms\n",
    "test_path = '/home/anindya/Documents/kaggle/SAII/LAST TRIAL/test_folder'\n",
    "\n",
    "test_class = {'in1.jpg'    : 0,\n",
    "              'land3.jpg'  : 3,\n",
    "              'in3.jpeg'   : 0,\n",
    "              'earth1.jpeg': 0,\n",
    "              'd1.jpeg'    : 3,\n",
    "              'urb3.jpeg'  : 1,\n",
    "              'd2.jpeg'    : 3,\n",
    "              'urb2.jpeg'  : 1,\n",
    "              'earth3.jpeg': 0,\n",
    "              'land2.jpeg' : 3,\n",
    "              'sea1.jpg'   : 4,\n",
    "              'wild2.jpeg' : 1,\n",
    "              'sea3.jpeg'  : 4,\n",
    "              'earth4.jpeg': 0,\n",
    "              'in2.jpeg'   : 0,\n",
    "              'd4.jpg'     : 3,\n",
    "              'earth5.jpeg': 0,\n",
    "              'earth2.jpg' : 0,\n",
    "              'd3.jpg'     : 3,\n",
    "              'urb1.jpeg'  : 1,\n",
    "              'sea2.jpeg'  : 5,\n",
    "              'urb4.jpeg'  : 1,\n",
    "              'wild3.jpeg' : 1,\n",
    "              'wild1.jpg'  : 1,\n",
    "              'land1.jpg'  : 3}\n",
    "\n",
    "\n",
    "transform = transforms.Compose([\n",
    "                                transforms.ToTensor(),\n",
    "                                transforms.Resize((224,224)),\n",
    "                                transforms.Normalize(mean=[0.5,0.5,0.5], std=[0.5,0.5,0.5])\n",
    "                                ])"
   ]
  },
  {
   "cell_type": "code",
   "execution_count": 9,
   "metadata": {},
   "outputs": [
    {
     "name": "stdout",
     "output_type": "stream",
     "text": [
      "0.72\n"
     ]
    }
   ],
   "source": [
    "import warnings\n",
    "warnings.filterwarnings(\"ignore\")\n",
    "\n",
    "preds, acc = test_eval(model, test_path, test_class, transform)\n",
    "print(acc)"
   ]
  },
  {
   "cell_type": "code",
   "execution_count": 10,
   "metadata": {},
   "outputs": [],
   "source": [
    "actual = list(test_class.values())"
   ]
  },
  {
   "cell_type": "code",
   "execution_count": 11,
   "metadata": {},
   "outputs": [
    {
     "data": {
      "text/plain": [
       "<AxesSubplot:>"
      ]
     },
     "execution_count": 11,
     "metadata": {},
     "output_type": "execute_result"
    },
    {
     "data": {
      "image/png": "[encoded data removed]",
      "text/plain": [
       "<Figure size 432x288 with 1 Axes>"
      ]
     },
     "metadata": {
      "needs_background": "light"
     },
     "output_type": "display_data"
    }
   ],
   "source": [
    "from sklearn.metrics import confusion_matrix\n",
    "import seaborn as sns\n",
    "\n",
    "cm = confusion_matrix(actual, preds)\n",
    "sns.heatmap(cm, annot=True, cbar=False)"
   ]
  },
  {
   "cell_type": "code",
   "execution_count": null,
   "metadata": {},
   "outputs": [],
   "source": []
  }
 ],
 "metadata": {
  "kernelspec": {
   "display_name": "Python 3 (ipykernel)",
   "language": "python",
   "name": "python3"
  },
  "language_info": {
   "codemirror_mode": {
    "name": "ipython",
    "version": 3
   },
   "file_extension": ".py",
   "mimetype": "text/x-python",
   "name": "python",
   "nbconvert_exporter": "python",
   "pygments_lexer": "ipython3",
   "version": "3.8.10"
  }
 },
 "nbformat": 4,
 "nbformat_minor": 4
}
