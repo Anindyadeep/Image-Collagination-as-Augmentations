{
 "cells": [
  {
   "cell_type": "code",
   "execution_count": 1,
   "source": [
    "import os\n",
    "import torch\n",
    "from PIL import Image\n",
    "import pandas as pd\n",
    "\n",
    "device = 'cuda' if torch.cuda.is_available() else 'cpu'"
   ],
   "outputs": [],
   "metadata": {}
  },
  {
   "cell_type": "code",
   "execution_count": 2,
   "source": [
    "def test_eval(model, test_path, test_class, transform):\n",
    "  ans = []\n",
    "  files = test_class.keys()\n",
    "  labels = test_class.values()\n",
    "  num_correct = 0\n",
    "  for file , idx in zip(files, labels):\n",
    "      path = os.path.join(test_path, file)\n",
    "      try:\n",
    "          img = Image.open(path)\n",
    "          tensor = transform(img)\n",
    "          temp_new_path = file.split('.')[0] + '.png'\n",
    "          new_path = os.path.join(test_path, temp_new_path)\n",
    "          img.save(new_path)\n",
    "          img_file = Image.open(new_path).convert('RGB')\n",
    "          tensor_img = transform(img_file)\n",
    "          tensor = tensor.unsqueeze(0).to(device)\n",
    "          output = model(tensor)\n",
    "          confidence, prediction = torch.max(output, 1)\n",
    "          ans.append(prediction.tolist()[0])\n",
    "          if prediction == idx:\n",
    "            num_correct += 1\n",
    "      except RuntimeError as e:\n",
    "          print('could not infer dtype of JPEG')\n",
    "  return ans, (num_correct/len(test_class))"
   ],
   "outputs": [],
   "metadata": {}
  },
  {
   "cell_type": "code",
   "execution_count": 3,
   "source": [
    "def get_test_reults(model, transform, test_path, save_as):\n",
    "    preds = []\n",
    "    files = os.listdir(test_path)\n",
    "    for file in files:\n",
    "        path = os.path.join(test_path, file)\n",
    "        try:\n",
    "            img = Image.open(path)\n",
    "            temp_new_path = file.split('.')[0] + '.png'\n",
    "            new_path = os.path.join(test_path, temp_new_path)\n",
    "            img.save(new_path)\n",
    "            img_file = Image.open(new_path).convert('RGB')\n",
    "            tensor_image = transform(img_file)\n",
    "            tensor = tensor_image.unsqueeze(0).to(device)\n",
    "            output = model(tensor)\n",
    "            _, prediction = torch.max(output, 1)\n",
    "            preds.append(prediction.tolist()[0])\n",
    "        except RuntimeError as e:\n",
    "            print('could not infer dtype of JPEG, skipping ...')\n",
    "    \n",
    "    if save_as:\n",
    "        save_dict = {\n",
    "            'image_name: ': files,\n",
    "            'predicted_class': preds}\n",
    "        df = pd.DataFrame(save_dict)\n",
    "        df.to_csv(save_as)\n",
    "    return preds"
   ],
   "outputs": [],
   "metadata": {}
  },
  {
   "cell_type": "code",
   "execution_count": 4,
   "source": [
    "vgg19_path = '/home/anindya/Documents/kaggle/SAII/LAST TRIAL/models/VGG19.pth'\n",
    "vgg19_bn_path = '/home/anindya/Documents/kaggle/SAII/LAST TRIAL/models/VGG19_bn.pth'\n",
    "resnet_path = '/home/anindya/Documents/kaggle/SAII/LAST TRIAL/models/RESNET152.pth'"
   ],
   "outputs": [],
   "metadata": {}
  },
  {
   "cell_type": "code",
   "execution_count": 5,
   "source": [
    "import torch.nn as nn\n",
    "from torchvision.models import vgg19_bn, vgg19, resnet152"
   ],
   "outputs": [],
   "metadata": {}
  },
  {
   "cell_type": "markdown",
   "source": [
    "### VGG19"
   ],
   "metadata": {}
  },
  {
   "cell_type": "code",
   "execution_count": 6,
   "source": [
    "device = 'cuda' if torch.cuda.is_available() else 'cpu'\n",
    "num_classes = 6\n",
    "model = resnet152(pretrained=False)\n",
    "for param in model.parameters():\n",
    "    param.requires_grad = False\n",
    "\n",
    "#model.classifier[6] = nn.Linear(model.classifier[6].in_features, num_classes)\n",
    "model.fc = nn.Linear(model.fc.in_features, num_classes)\n",
    "model = model.to(device)"
   ],
   "outputs": [],
   "metadata": {}
  },
  {
   "cell_type": "code",
   "execution_count": 7,
   "source": [
    "# loading the model\n",
    "\n",
    "pp = model.load_state_dict(torch.load(resnet_path, map_location=torch.device(device)))"
   ],
   "outputs": [],
   "metadata": {}
  },
  {
   "cell_type": "code",
   "execution_count": 11,
   "source": [
    "import torchvision.transforms as transforms\n",
    "test_path = '/home/anindya/Documents/kaggle/SAII/LAST TRIAL/test_folder'\n",
    "\n",
    "test_class = {'in1.jpg'    : 0,\n",
    "              'land3.jpg'  : 3,\n",
    "              'in3.jpeg'   : 0,\n",
    "              'earth1.jpeg': 0,\n",
    "              'd1.jpeg'    : 3,\n",
    "              'urb3.jpeg'  : 1,\n",
    "              'd2.jpeg'    : 3,\n",
    "              'urb2.jpeg'  : 1,\n",
    "              'earth3.jpeg': 0,\n",
    "              'land2.jpeg' : 3,\n",
    "              'sea1.jpg'   : 4,\n",
    "              'wild2.jpeg' : 1,\n",
    "              'sea3.jpeg'  : 4,\n",
    "              'earth4.jpeg': 0,\n",
    "              'in2.jpeg'   : 0,\n",
    "              'd4.jpg'     : 3,\n",
    "              'earth5.jpeg': 0,\n",
    "              'earth2.jpg' : 0,\n",
    "              'd3.jpg'     : 3,\n",
    "              'urb1.jpeg'  : 1,\n",
    "              'sea2.jpeg'  : 5,\n",
    "              'urb4.jpeg'  : 1,\n",
    "              'wild3.jpeg' : 1,\n",
    "              'wild1.jpg'  : 1,\n",
    "              'land1.jpg'  : 3}\n",
    "\n",
    "\n",
    "transform = transforms.Compose([\n",
    "                                transforms.ToTensor(),\n",
    "                                transforms.Resize((224,224)),\n",
    "                                transforms.Normalize(mean=[0.5,0.5,0.5], std=[0.5,0.5,0.5])\n",
    "                                ])"
   ],
   "outputs": [],
   "metadata": {}
  },
  {
   "cell_type": "code",
   "execution_count": 9,
   "source": [
    "import warnings\n",
    "warnings.filterwarnings(\"ignore\")\n",
    "\n",
    "preds, acc = test_eval(model, test_path, test_class, transform)\n",
    "print(acc)"
   ],
   "outputs": [
    {
     "output_type": "stream",
     "name": "stdout",
     "text": [
      "0.44\n"
     ]
    }
   ],
   "metadata": {}
  },
  {
   "cell_type": "code",
   "execution_count": 10,
   "source": [
    "actual = list(test_class.values())\n",
    "\n",
    "from sklearn.metrics import confusion_matrix\n",
    "import seaborn as sns\n",
    "\n",
    "cm = confusion_matrix(actual, preds)\n",
    "sns.heatmap(cm, annot=True, cbar=False)"
   ],
   "outputs": [
    {
     "output_type": "execute_result",
     "data": {
      "text/plain": [
       "<AxesSubplot:>"
      ]
     },
     "metadata": {},
     "execution_count": 10
    },
    {
     "output_type": "display_data",
     "data": {
      "text/plain": [
       "<Figure size 432x288 with 1 Axes>"
      ],
      "image/svg+xml": "<?xml version=\"1.0\" encoding=\"utf-8\" standalone=\"no\"?>\n<!DOCTYPE svg PUBLIC \"-//W3C//DTD SVG 1.1//EN\"\n  \"http://www.w3.org/Graphics/SVG/1.1/DTD/svg11.dtd\">\n<svg height=\"248.518125pt\" version=\"1.1\" viewBox=\"0 0 365.878125 248.518125\" width=\"365.878125pt\" xmlns=\"http://www.w3.org/2000/svg\" xmlns:xlink=\"http://www.w3.org/1999/xlink\">\n <metadata>\n  <rdf:RDF xmlns:cc=\"http://creativecommons.org/ns#\" xmlns:dc=\"http://purl.org/dc/elements/1.1/\" xmlns:rdf=\"http://www.w3.org/1999/02/22-rdf-syntax-ns#\">\n   <cc:Work>\n    <dc:type rdf:resource=\"http://purl.org/dc/dcmitype/StillImage\"/>\n    <dc:date>2021-08-27T21:34:37.535785</dc:date>\n    <dc:format>image/svg+xml</dc:format>\n    <dc:creator>\n     <cc:Agent>\n      <dc:title>Matplotlib v3.4.2, https://matplotlib.org/</dc:title>\n     </cc:Agent>\n    </dc:creator>\n   </cc:Work>\n  </rdf:RDF>\n </metadata>\n <defs>\n  <style type=\"text/css\">*{stroke-linecap:butt;stroke-linejoin:round;}</style>\n </defs>\n <g id=\"figure_1\">\n  <g id=\"patch_1\">\n   <path d=\"M -0 248.518125 \nL 365.878125 248.518125 \nL 365.878125 0 \nL -0 0 \nz\n\" style=\"fill:none;\"/>\n  </g>\n  <g id=\"axes_1\">\n   <g id=\"patch_2\">\n    <path d=\"M 23.878125 224.64 \nL 358.678125 224.64 \nL 358.678125 7.2 \nL 23.878125 7.2 \nz\n\" style=\"fill:#ffffff;\"/>\n   </g>\n   <g id=\"QuadMesh_1\">\n    <path clip-path=\"url(#paeb838c122)\" d=\"M 23.878125 7.2 \nL 90.838125 7.2 \nL 90.838125 50.688 \nL 23.878125 50.688 \nL 23.878125 7.2 \n\" style=\"fill:#faebdd;\"/>\n    <path clip-path=\"url(#paeb838c122)\" d=\"M 90.838125 7.2 \nL 157.798125 7.2 \nL 157.798125 50.688 \nL 90.838125 50.688 \nL 90.838125 7.2 \n\" style=\"fill:#03051a;\"/>\n    <path clip-path=\"url(#paeb838c122)\" d=\"M 157.798125 7.2 \nL 224.758125 7.2 \nL 224.758125 50.688 \nL 157.798125 50.688 \nL 157.798125 7.2 \n\" style=\"fill:#35193e;\"/>\n    <path clip-path=\"url(#paeb838c122)\" d=\"M 224.758125 7.2 \nL 291.718125 7.2 \nL 291.718125 50.688 \nL 224.758125 50.688 \nL 224.758125 7.2 \n\" style=\"fill:#03051a;\"/>\n    <path clip-path=\"url(#paeb838c122)\" d=\"M 291.718125 7.2 \nL 358.678125 7.2 \nL 358.678125 50.688 \nL 291.718125 50.688 \nL 291.718125 7.2 \n\" style=\"fill:#03051a;\"/>\n    <path clip-path=\"url(#paeb838c122)\" d=\"M 23.878125 50.688 \nL 90.838125 50.688 \nL 90.838125 94.176 \nL 23.878125 94.176 \nL 23.878125 50.688 \n\" style=\"fill:#e13342;\"/>\n    <path clip-path=\"url(#paeb838c122)\" d=\"M 90.838125 50.688 \nL 157.798125 50.688 \nL 157.798125 94.176 \nL 90.838125 94.176 \nL 90.838125 50.688 \n\" style=\"fill:#03051a;\"/>\n    <path clip-path=\"url(#paeb838c122)\" d=\"M 157.798125 50.688 \nL 224.758125 50.688 \nL 224.758125 94.176 \nL 157.798125 94.176 \nL 157.798125 50.688 \n\" style=\"fill:#ad1759;\"/>\n    <path clip-path=\"url(#paeb838c122)\" d=\"M 224.758125 50.688 \nL 291.718125 50.688 \nL 291.718125 94.176 \nL 224.758125 94.176 \nL 224.758125 50.688 \n\" style=\"fill:#03051a;\"/>\n    <path clip-path=\"url(#paeb838c122)\" d=\"M 291.718125 50.688 \nL 358.678125 50.688 \nL 358.678125 94.176 \nL 291.718125 94.176 \nL 291.718125 50.688 \n\" style=\"fill:#03051a;\"/>\n    <path clip-path=\"url(#paeb838c122)\" d=\"M 23.878125 94.176 \nL 90.838125 94.176 \nL 90.838125 137.664 \nL 23.878125 137.664 \nL 23.878125 94.176 \n\" style=\"fill:#ad1759;\"/>\n    <path clip-path=\"url(#paeb838c122)\" d=\"M 90.838125 94.176 \nL 157.798125 94.176 \nL 157.798125 137.664 \nL 90.838125 137.664 \nL 90.838125 94.176 \n\" style=\"fill:#03051a;\"/>\n    <path clip-path=\"url(#paeb838c122)\" d=\"M 157.798125 94.176 \nL 224.758125 94.176 \nL 224.758125 137.664 \nL 157.798125 137.664 \nL 157.798125 94.176 \n\" style=\"fill:#e13342;\"/>\n    <path clip-path=\"url(#paeb838c122)\" d=\"M 224.758125 94.176 \nL 291.718125 94.176 \nL 291.718125 137.664 \nL 224.758125 137.664 \nL 224.758125 94.176 \n\" style=\"fill:#03051a;\"/>\n    <path clip-path=\"url(#paeb838c122)\" d=\"M 291.718125 94.176 \nL 358.678125 94.176 \nL 358.678125 137.664 \nL 291.718125 137.664 \nL 291.718125 94.176 \n\" style=\"fill:#03051a;\"/>\n    <path clip-path=\"url(#paeb838c122)\" d=\"M 23.878125 137.664 \nL 90.838125 137.664 \nL 90.838125 181.152 \nL 23.878125 181.152 \nL 23.878125 137.664 \n\" style=\"fill:#35193e;\"/>\n    <path clip-path=\"url(#paeb838c122)\" d=\"M 90.838125 137.664 \nL 157.798125 137.664 \nL 157.798125 181.152 \nL 90.838125 181.152 \nL 90.838125 137.664 \n\" style=\"fill:#03051a;\"/>\n    <path clip-path=\"url(#paeb838c122)\" d=\"M 157.798125 137.664 \nL 224.758125 137.664 \nL 224.758125 181.152 \nL 157.798125 181.152 \nL 157.798125 137.664 \n\" style=\"fill:#35193e;\"/>\n    <path clip-path=\"url(#paeb838c122)\" d=\"M 224.758125 137.664 \nL 291.718125 137.664 \nL 291.718125 181.152 \nL 224.758125 181.152 \nL 224.758125 137.664 \n\" style=\"fill:#03051a;\"/>\n    <path clip-path=\"url(#paeb838c122)\" d=\"M 291.718125 137.664 \nL 358.678125 137.664 \nL 358.678125 181.152 \nL 291.718125 181.152 \nL 291.718125 137.664 \n\" style=\"fill:#03051a;\"/>\n    <path clip-path=\"url(#paeb838c122)\" d=\"M 23.878125 181.152 \nL 90.838125 181.152 \nL 90.838125 224.64 \nL 23.878125 224.64 \nL 23.878125 181.152 \n\" style=\"fill:#35193e;\"/>\n    <path clip-path=\"url(#paeb838c122)\" d=\"M 90.838125 181.152 \nL 157.798125 181.152 \nL 157.798125 224.64 \nL 90.838125 224.64 \nL 90.838125 181.152 \n\" style=\"fill:#03051a;\"/>\n    <path clip-path=\"url(#paeb838c122)\" d=\"M 157.798125 181.152 \nL 224.758125 181.152 \nL 224.758125 224.64 \nL 157.798125 224.64 \nL 157.798125 181.152 \n\" style=\"fill:#03051a;\"/>\n    <path clip-path=\"url(#paeb838c122)\" d=\"M 224.758125 181.152 \nL 291.718125 181.152 \nL 291.718125 224.64 \nL 224.758125 224.64 \nL 224.758125 181.152 \n\" style=\"fill:#03051a;\"/>\n    <path clip-path=\"url(#paeb838c122)\" d=\"M 291.718125 181.152 \nL 358.678125 181.152 \nL 358.678125 224.64 \nL 291.718125 224.64 \nL 291.718125 181.152 \n\" style=\"fill:#03051a;\"/>\n   </g>\n   <g id=\"matplotlib.axis_1\">\n    <g id=\"xtick_1\">\n     <g id=\"line2d_1\">\n      <defs>\n       <path d=\"M 0 0 \nL 0 3.5 \n\" id=\"m6f93d10277\" style=\"stroke:#000000;stroke-width:0.8;\"/>\n      </defs>\n      <g>\n       <use style=\"stroke:#000000;stroke-width:0.8;\" x=\"57.358125\" xlink:href=\"#m6f93d10277\" y=\"224.64\"/>\n      </g>\n     </g>\n     <g id=\"text_1\">\n      <!-- 0 -->\n      <g transform=\"translate(54.176875 239.238437)scale(0.1 -0.1)\">\n       <defs>\n        <path d=\"M 2034 4250 \nQ 1547 4250 1301 3770 \nQ 1056 3291 1056 2328 \nQ 1056 1369 1301 889 \nQ 1547 409 2034 409 \nQ 2525 409 2770 889 \nQ 3016 1369 3016 2328 \nQ 3016 3291 2770 3770 \nQ 2525 4250 2034 4250 \nz\nM 2034 4750 \nQ 2819 4750 3233 4129 \nQ 3647 3509 3647 2328 \nQ 3647 1150 3233 529 \nQ 2819 -91 2034 -91 \nQ 1250 -91 836 529 \nQ 422 1150 422 2328 \nQ 422 3509 836 4129 \nQ 1250 4750 2034 4750 \nz\n\" id=\"DejaVuSans-30\" transform=\"scale(0.015625)\"/>\n       </defs>\n       <use xlink:href=\"#DejaVuSans-30\"/>\n      </g>\n     </g>\n    </g>\n    <g id=\"xtick_2\">\n     <g id=\"line2d_2\">\n      <g>\n       <use style=\"stroke:#000000;stroke-width:0.8;\" x=\"124.318125\" xlink:href=\"#m6f93d10277\" y=\"224.64\"/>\n      </g>\n     </g>\n     <g id=\"text_2\">\n      <!-- 1 -->\n      <g transform=\"translate(121.136875 239.238437)scale(0.1 -0.1)\">\n       <defs>\n        <path d=\"M 794 531 \nL 1825 531 \nL 1825 4091 \nL 703 3866 \nL 703 4441 \nL 1819 4666 \nL 2450 4666 \nL 2450 531 \nL 3481 531 \nL 3481 0 \nL 794 0 \nL 794 531 \nz\n\" id=\"DejaVuSans-31\" transform=\"scale(0.015625)\"/>\n       </defs>\n       <use xlink:href=\"#DejaVuSans-31\"/>\n      </g>\n     </g>\n    </g>\n    <g id=\"xtick_3\">\n     <g id=\"line2d_3\">\n      <g>\n       <use style=\"stroke:#000000;stroke-width:0.8;\" x=\"191.278125\" xlink:href=\"#m6f93d10277\" y=\"224.64\"/>\n      </g>\n     </g>\n     <g id=\"text_3\">\n      <!-- 2 -->\n      <g transform=\"translate(188.096875 239.238437)scale(0.1 -0.1)\">\n       <defs>\n        <path d=\"M 1228 531 \nL 3431 531 \nL 3431 0 \nL 469 0 \nL 469 531 \nQ 828 903 1448 1529 \nQ 2069 2156 2228 2338 \nQ 2531 2678 2651 2914 \nQ 2772 3150 2772 3378 \nQ 2772 3750 2511 3984 \nQ 2250 4219 1831 4219 \nQ 1534 4219 1204 4116 \nQ 875 4013 500 3803 \nL 500 4441 \nQ 881 4594 1212 4672 \nQ 1544 4750 1819 4750 \nQ 2544 4750 2975 4387 \nQ 3406 4025 3406 3419 \nQ 3406 3131 3298 2873 \nQ 3191 2616 2906 2266 \nQ 2828 2175 2409 1742 \nQ 1991 1309 1228 531 \nz\n\" id=\"DejaVuSans-32\" transform=\"scale(0.015625)\"/>\n       </defs>\n       <use xlink:href=\"#DejaVuSans-32\"/>\n      </g>\n     </g>\n    </g>\n    <g id=\"xtick_4\">\n     <g id=\"line2d_4\">\n      <g>\n       <use style=\"stroke:#000000;stroke-width:0.8;\" x=\"258.238125\" xlink:href=\"#m6f93d10277\" y=\"224.64\"/>\n      </g>\n     </g>\n     <g id=\"text_4\">\n      <!-- 3 -->\n      <g transform=\"translate(255.056875 239.238437)scale(0.1 -0.1)\">\n       <defs>\n        <path d=\"M 2597 2516 \nQ 3050 2419 3304 2112 \nQ 3559 1806 3559 1356 \nQ 3559 666 3084 287 \nQ 2609 -91 1734 -91 \nQ 1441 -91 1130 -33 \nQ 819 25 488 141 \nL 488 750 \nQ 750 597 1062 519 \nQ 1375 441 1716 441 \nQ 2309 441 2620 675 \nQ 2931 909 2931 1356 \nQ 2931 1769 2642 2001 \nQ 2353 2234 1838 2234 \nL 1294 2234 \nL 1294 2753 \nL 1863 2753 \nQ 2328 2753 2575 2939 \nQ 2822 3125 2822 3475 \nQ 2822 3834 2567 4026 \nQ 2313 4219 1838 4219 \nQ 1578 4219 1281 4162 \nQ 984 4106 628 3988 \nL 628 4550 \nQ 988 4650 1302 4700 \nQ 1616 4750 1894 4750 \nQ 2613 4750 3031 4423 \nQ 3450 4097 3450 3541 \nQ 3450 3153 3228 2886 \nQ 3006 2619 2597 2516 \nz\n\" id=\"DejaVuSans-33\" transform=\"scale(0.015625)\"/>\n       </defs>\n       <use xlink:href=\"#DejaVuSans-33\"/>\n      </g>\n     </g>\n    </g>\n    <g id=\"xtick_5\">\n     <g id=\"line2d_5\">\n      <g>\n       <use style=\"stroke:#000000;stroke-width:0.8;\" x=\"325.198125\" xlink:href=\"#m6f93d10277\" y=\"224.64\"/>\n      </g>\n     </g>\n     <g id=\"text_5\">\n      <!-- 4 -->\n      <g transform=\"translate(322.016875 239.238437)scale(0.1 -0.1)\">\n       <defs>\n        <path d=\"M 2419 4116 \nL 825 1625 \nL 2419 1625 \nL 2419 4116 \nz\nM 2253 4666 \nL 3047 4666 \nL 3047 1625 \nL 3713 1625 \nL 3713 1100 \nL 3047 1100 \nL 3047 0 \nL 2419 0 \nL 2419 1100 \nL 313 1100 \nL 313 1709 \nL 2253 4666 \nz\n\" id=\"DejaVuSans-34\" transform=\"scale(0.015625)\"/>\n       </defs>\n       <use xlink:href=\"#DejaVuSans-34\"/>\n      </g>\n     </g>\n    </g>\n   </g>\n   <g id=\"matplotlib.axis_2\">\n    <g id=\"ytick_1\">\n     <g id=\"line2d_6\">\n      <defs>\n       <path d=\"M 0 0 \nL -3.5 0 \n\" id=\"m7c3aa92c65\" style=\"stroke:#000000;stroke-width:0.8;\"/>\n      </defs>\n      <g>\n       <use style=\"stroke:#000000;stroke-width:0.8;\" x=\"23.878125\" xlink:href=\"#m7c3aa92c65\" y=\"28.944\"/>\n      </g>\n     </g>\n     <g id=\"text_6\">\n      <!-- 0 -->\n      <g transform=\"translate(14.798438 32.12525)rotate(-90)scale(0.1 -0.1)\">\n       <use xlink:href=\"#DejaVuSans-30\"/>\n      </g>\n     </g>\n    </g>\n    <g id=\"ytick_2\">\n     <g id=\"line2d_7\">\n      <g>\n       <use style=\"stroke:#000000;stroke-width:0.8;\" x=\"23.878125\" xlink:href=\"#m7c3aa92c65\" y=\"72.432\"/>\n      </g>\n     </g>\n     <g id=\"text_7\">\n      <!-- 1 -->\n      <g transform=\"translate(14.798438 75.61325)rotate(-90)scale(0.1 -0.1)\">\n       <use xlink:href=\"#DejaVuSans-31\"/>\n      </g>\n     </g>\n    </g>\n    <g id=\"ytick_3\">\n     <g id=\"line2d_8\">\n      <g>\n       <use style=\"stroke:#000000;stroke-width:0.8;\" x=\"23.878125\" xlink:href=\"#m7c3aa92c65\" y=\"115.92\"/>\n      </g>\n     </g>\n     <g id=\"text_8\">\n      <!-- 2 -->\n      <g transform=\"translate(14.798438 119.10125)rotate(-90)scale(0.1 -0.1)\">\n       <use xlink:href=\"#DejaVuSans-32\"/>\n      </g>\n     </g>\n    </g>\n    <g id=\"ytick_4\">\n     <g id=\"line2d_9\">\n      <g>\n       <use style=\"stroke:#000000;stroke-width:0.8;\" x=\"23.878125\" xlink:href=\"#m7c3aa92c65\" y=\"159.408\"/>\n      </g>\n     </g>\n     <g id=\"text_9\">\n      <!-- 3 -->\n      <g transform=\"translate(14.798438 162.58925)rotate(-90)scale(0.1 -0.1)\">\n       <use xlink:href=\"#DejaVuSans-33\"/>\n      </g>\n     </g>\n    </g>\n    <g id=\"ytick_5\">\n     <g id=\"line2d_10\">\n      <g>\n       <use style=\"stroke:#000000;stroke-width:0.8;\" x=\"23.878125\" xlink:href=\"#m7c3aa92c65\" y=\"202.896\"/>\n      </g>\n     </g>\n     <g id=\"text_10\">\n      <!-- 4 -->\n      <g transform=\"translate(14.798438 206.07725)rotate(-90)scale(0.1 -0.1)\">\n       <use xlink:href=\"#DejaVuSans-34\"/>\n      </g>\n     </g>\n    </g>\n   </g>\n   <g id=\"text_11\">\n    <!-- 7 -->\n    <g style=\"fill:#262626;\" transform=\"translate(54.176875 31.703375)scale(0.1 -0.1)\">\n     <defs>\n      <path d=\"M 525 4666 \nL 3525 4666 \nL 3525 4397 \nL 1831 0 \nL 1172 0 \nL 2766 4134 \nL 525 4134 \nL 525 4666 \nz\n\" id=\"DejaVuSans-37\" transform=\"scale(0.015625)\"/>\n     </defs>\n     <use xlink:href=\"#DejaVuSans-37\"/>\n    </g>\n   </g>\n   <g id=\"text_12\">\n    <!-- 0 -->\n    <g style=\"fill:#ffffff;\" transform=\"translate(121.136875 31.703375)scale(0.1 -0.1)\">\n     <use xlink:href=\"#DejaVuSans-30\"/>\n    </g>\n   </g>\n   <g id=\"text_13\">\n    <!-- 1 -->\n    <g style=\"fill:#ffffff;\" transform=\"translate(188.096875 31.703375)scale(0.1 -0.1)\">\n     <use xlink:href=\"#DejaVuSans-31\"/>\n    </g>\n   </g>\n   <g id=\"text_14\">\n    <!-- 0 -->\n    <g style=\"fill:#ffffff;\" transform=\"translate(255.056875 31.703375)scale(0.1 -0.1)\">\n     <use xlink:href=\"#DejaVuSans-30\"/>\n    </g>\n   </g>\n   <g id=\"text_15\">\n    <!-- 0 -->\n    <g style=\"fill:#ffffff;\" transform=\"translate(322.016875 31.703375)scale(0.1 -0.1)\">\n     <use xlink:href=\"#DejaVuSans-30\"/>\n    </g>\n   </g>\n   <g id=\"text_16\">\n    <!-- 4 -->\n    <g style=\"fill:#ffffff;\" transform=\"translate(54.176875 75.191375)scale(0.1 -0.1)\">\n     <use xlink:href=\"#DejaVuSans-34\"/>\n    </g>\n   </g>\n   <g id=\"text_17\">\n    <!-- 0 -->\n    <g style=\"fill:#ffffff;\" transform=\"translate(121.136875 75.191375)scale(0.1 -0.1)\">\n     <use xlink:href=\"#DejaVuSans-30\"/>\n    </g>\n   </g>\n   <g id=\"text_18\">\n    <!-- 3 -->\n    <g style=\"fill:#ffffff;\" transform=\"translate(188.096875 75.191375)scale(0.1 -0.1)\">\n     <use xlink:href=\"#DejaVuSans-33\"/>\n    </g>\n   </g>\n   <g id=\"text_19\">\n    <!-- 0 -->\n    <g style=\"fill:#ffffff;\" transform=\"translate(255.056875 75.191375)scale(0.1 -0.1)\">\n     <use xlink:href=\"#DejaVuSans-30\"/>\n    </g>\n   </g>\n   <g id=\"text_20\">\n    <!-- 0 -->\n    <g style=\"fill:#ffffff;\" transform=\"translate(322.016875 75.191375)scale(0.1 -0.1)\">\n     <use xlink:href=\"#DejaVuSans-30\"/>\n    </g>\n   </g>\n   <g id=\"text_21\">\n    <!-- 3 -->\n    <g style=\"fill:#ffffff;\" transform=\"translate(54.176875 118.679375)scale(0.1 -0.1)\">\n     <use xlink:href=\"#DejaVuSans-33\"/>\n    </g>\n   </g>\n   <g id=\"text_22\">\n    <!-- 0 -->\n    <g style=\"fill:#ffffff;\" transform=\"translate(121.136875 118.679375)scale(0.1 -0.1)\">\n     <use xlink:href=\"#DejaVuSans-30\"/>\n    </g>\n   </g>\n   <g id=\"text_23\">\n    <!-- 4 -->\n    <g style=\"fill:#ffffff;\" transform=\"translate(188.096875 118.679375)scale(0.1 -0.1)\">\n     <use xlink:href=\"#DejaVuSans-34\"/>\n    </g>\n   </g>\n   <g id=\"text_24\">\n    <!-- 0 -->\n    <g style=\"fill:#ffffff;\" transform=\"translate(255.056875 118.679375)scale(0.1 -0.1)\">\n     <use xlink:href=\"#DejaVuSans-30\"/>\n    </g>\n   </g>\n   <g id=\"text_25\">\n    <!-- 0 -->\n    <g style=\"fill:#ffffff;\" transform=\"translate(322.016875 118.679375)scale(0.1 -0.1)\">\n     <use xlink:href=\"#DejaVuSans-30\"/>\n    </g>\n   </g>\n   <g id=\"text_26\">\n    <!-- 1 -->\n    <g style=\"fill:#ffffff;\" transform=\"translate(54.176875 162.167375)scale(0.1 -0.1)\">\n     <use xlink:href=\"#DejaVuSans-31\"/>\n    </g>\n   </g>\n   <g id=\"text_27\">\n    <!-- 0 -->\n    <g style=\"fill:#ffffff;\" transform=\"translate(121.136875 162.167375)scale(0.1 -0.1)\">\n     <use xlink:href=\"#DejaVuSans-30\"/>\n    </g>\n   </g>\n   <g id=\"text_28\">\n    <!-- 1 -->\n    <g style=\"fill:#ffffff;\" transform=\"translate(188.096875 162.167375)scale(0.1 -0.1)\">\n     <use xlink:href=\"#DejaVuSans-31\"/>\n    </g>\n   </g>\n   <g id=\"text_29\">\n    <!-- 0 -->\n    <g style=\"fill:#ffffff;\" transform=\"translate(255.056875 162.167375)scale(0.1 -0.1)\">\n     <use xlink:href=\"#DejaVuSans-30\"/>\n    </g>\n   </g>\n   <g id=\"text_30\">\n    <!-- 0 -->\n    <g style=\"fill:#ffffff;\" transform=\"translate(322.016875 162.167375)scale(0.1 -0.1)\">\n     <use xlink:href=\"#DejaVuSans-30\"/>\n    </g>\n   </g>\n   <g id=\"text_31\">\n    <!-- 1 -->\n    <g style=\"fill:#ffffff;\" transform=\"translate(54.176875 205.655375)scale(0.1 -0.1)\">\n     <use xlink:href=\"#DejaVuSans-31\"/>\n    </g>\n   </g>\n   <g id=\"text_32\">\n    <!-- 0 -->\n    <g style=\"fill:#ffffff;\" transform=\"translate(121.136875 205.655375)scale(0.1 -0.1)\">\n     <use xlink:href=\"#DejaVuSans-30\"/>\n    </g>\n   </g>\n   <g id=\"text_33\">\n    <!-- 0 -->\n    <g style=\"fill:#ffffff;\" transform=\"translate(188.096875 205.655375)scale(0.1 -0.1)\">\n     <use xlink:href=\"#DejaVuSans-30\"/>\n    </g>\n   </g>\n   <g id=\"text_34\">\n    <!-- 0 -->\n    <g style=\"fill:#ffffff;\" transform=\"translate(255.056875 205.655375)scale(0.1 -0.1)\">\n     <use xlink:href=\"#DejaVuSans-30\"/>\n    </g>\n   </g>\n   <g id=\"text_35\">\n    <!-- 0 -->\n    <g style=\"fill:#ffffff;\" transform=\"translate(322.016875 205.655375)scale(0.1 -0.1)\">\n     <use xlink:href=\"#DejaVuSans-30\"/>\n    </g>\n   </g>\n  </g>\n </g>\n <defs>\n  <clipPath id=\"paeb838c122\">\n   <rect height=\"217.44\" width=\"334.8\" x=\"23.878125\" y=\"7.2\"/>\n  </clipPath>\n </defs>\n</svg>\n",
      "image/png": "[encoded data removed]"
     },
     "metadata": {
      "needs_background": "light"
     }
    }
   ],
   "metadata": {}
  },
  {
   "cell_type": "code",
   "execution_count": 15,
   "source": [
    "from sklearn.metrics import precision_score, recall_score\n",
    "\n",
    "print(precision_score(actual, preds, average='micro'))\n",
    "print(recall_score(actual, preds, average='micro'))"
   ],
   "outputs": [
    {
     "output_type": "stream",
     "name": "stdout",
     "text": [
      "0.44\n",
      "0.44\n"
     ]
    }
   ],
   "metadata": {}
  },
  {
   "cell_type": "code",
   "execution_count": null,
   "source": [],
   "outputs": [],
   "metadata": {}
  }
 ],
 "metadata": {
  "kernelspec": {
   "name": "python3",
   "display_name": "Python 3.8.10 64-bit"
  },
  "language_info": {
   "codemirror_mode": {
    "name": "ipython",
    "version": 3
   },
   "file_extension": ".py",
   "mimetype": "text/x-python",
   "name": "python",
   "nbconvert_exporter": "python",
   "pygments_lexer": "ipython3",
   "version": "3.8.10"
  },
  "interpreter": {
   "hash": "31f2aee4e71d21fbe5cf8b01ff0e069b9275f58929596ceb00d14d90e3e16cd6"
  }
 },
 "nbformat": 4,
 "nbformat_minor": 4
}